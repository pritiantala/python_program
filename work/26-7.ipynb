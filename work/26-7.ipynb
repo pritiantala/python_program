{
 "cells": [
  {
   "cell_type": "code",
   "execution_count": 1,
   "metadata": {},
   "outputs": [
    {
     "name": "stdout",
     "output_type": "stream",
     "text": [
      "10\n",
      "20\n"
     ]
    }
   ],
   "source": [
    "#class example\n",
    "class sample:\n",
    "    num1=10\n",
    "    num2=20\n",
    "\n",
    "obj=sample()\n",
    "print(obj.num1)\n",
    "print(obj.num2)"
   ]
  },
  {
   "cell_type": "code",
   "execution_count": 2,
   "metadata": {},
   "outputs": [
    {
     "name": "stdout",
     "output_type": "stream",
     "text": [
      "hello\n",
      "fname= aaa\n",
      "lname= ppp\n"
     ]
    }
   ],
   "source": [
    "#self: which is represent current class properties\n",
    "\n",
    "class student:\n",
    "    def display(self,fname,lname):\n",
    "        print(\"hello\")\n",
    "        print(\"fname=\",fname)\n",
    "        print(\"lname=\",lname)\n",
    "\n",
    "obj=student()\n",
    "obj.display(\"aaa\",\"ppp\")"
   ]
  },
  {
   "cell_type": "code",
   "execution_count": 3,
   "metadata": {},
   "outputs": [
    {
     "name": "stdout",
     "output_type": "stream",
     "text": [
      "factorial= 720\n"
     ]
    }
   ],
   "source": [
    "#factorial value\n",
    "class practial:\n",
    "    def findfactorial(self,num):\n",
    "        f=1\n",
    "        for i in range(1,num+1):\n",
    "            f*=i\n",
    "        print(\"factorial=\",f)\n",
    "\n",
    "obj=practial()\n",
    "num=int(input(\"enter a number:\"))\n",
    "obj.findfactorial(num)"
   ]
  },
  {
   "cell_type": "code",
   "execution_count": 4,
   "metadata": {},
   "outputs": [
    {
     "name": "stdout",
     "output_type": "stream",
     "text": [
      "name= aaa\n",
      "subject= python\n"
     ]
    }
   ],
   "source": [
    "#encapsulation\n",
    "class student:\n",
    "    def setname(self,name):\n",
    "        self.name=name\n",
    "\n",
    "    def getname(self):\n",
    "        return self.name\n",
    "\n",
    "    def setsubject(self,subject):\n",
    "        self.subject=subject\n",
    "    def getsubject(self):\n",
    "        return self.subject\n",
    "\n",
    "obj=student()\n",
    "obj.setname(\"aaa\")\n",
    "obj.setsubject(\"python\")\n",
    "\n",
    "print(\"name=\",obj.getname())\n",
    "print(\"subject=\",obj.getsubject())"
   ]
  },
  {
   "cell_type": "code",
   "execution_count": null,
   "metadata": {},
   "outputs": [],
   "source": []
  }
 ],
 "metadata": {
  "kernelspec": {
   "display_name": "Python 3.10.5 64-bit",
   "language": "python",
   "name": "python3"
  },
  "language_info": {
   "codemirror_mode": {
    "name": "ipython",
    "version": 3
   },
   "file_extension": ".py",
   "mimetype": "text/x-python",
   "name": "python",
   "nbconvert_exporter": "python",
   "pygments_lexer": "ipython3",
   "version": "3.10.5"
  },
  "orig_nbformat": 4,
  "vscode": {
   "interpreter": {
    "hash": "369f2c481f4da34e4445cda3fffd2e751bd1c4d706f27375911949ba6bb62e1c"
   }
  }
 },
 "nbformat": 4,
 "nbformat_minor": 2
}
