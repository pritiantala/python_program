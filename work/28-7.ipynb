{
 "cells": [
  {
   "cell_type": "markdown",
   "id": "01242658",
   "metadata": {},
   "source": [
    "__init__.py: which is contain in any blank folder\n",
    "    if any blank folder contain this blank __init__.py file it consider as a package\n",
    "    \n",
    "__init__(): constructor\n",
    "    which call automatically when object of class create"
   ]
  },
  {
   "cell_type": "code",
   "execution_count": 1,
   "id": "c6156cdc",
   "metadata": {},
   "outputs": [
    {
     "name": "stdout",
     "output_type": "stream",
     "text": [
      "hello welcome to electostore\n"
     ]
    }
   ],
   "source": [
    "class electoStore:\n",
    "    def __init__(self):      #here __init__()is use as a constructor \n",
    "        print(\"hello welcome to electostore\")\n",
    "        \n",
    "obj = electoStore()"
   ]
  },
  {
   "cell_type": "markdown",
   "id": "069b4b73",
   "metadata": {},
   "source": [
    "accessbility = access specifiers =  modifiers\n",
    "\n",
    "by default all class data member and member function are public if we want to make data member private we need denoted\n",
    "with __ or _ in prefix.\n"
   ]
  },
  {
   "cell_type": "code",
   "execution_count": 1,
   "id": "99946e62",
   "metadata": {},
   "outputs": [
    {
     "name": "stdout",
     "output_type": "stream",
     "text": [
      "mobile= 4500\n",
      "laptop= 45000\n",
      "mobile= 1500\n",
      "laptop= 45000\n"
     ]
    }
   ],
   "source": [
    "#private data member\n",
    "class mobileStore:\n",
    "    def __init__(self):\n",
    "        self.mobile=4500\n",
    "        self.__laptop=45000         #data member is private so value will be static\n",
    "        \n",
    "    def display(self):\n",
    "        print(\"mobile=\",self.mobile)\n",
    "        print(\"laptop=\",self.__laptop)      \n",
    "        \n",
    "obj=mobileStore()\n",
    "obj.display()\n",
    "\n",
    "obj.mobile=1500\n",
    "obj.__laptop=50000          #__laptop is private so value doesn't change\n",
    "\n",
    "obj.display()"
   ]
  },
  {
   "cell_type": "code",
   "execution_count": 3,
   "id": "0e960ddb",
   "metadata": {},
   "outputs": [
    {
     "name": "stdout",
     "output_type": "stream",
     "text": [
      "mobile= 4500\n",
      "laptop= 45000\n",
      "mobile= 1500\n",
      "laptop= 45000\n",
      "-----CHANGEPRICE-----\n",
      "mobile= 1500\n",
      "laptop= 75000\n"
     ]
    }
   ],
   "source": [
    "# convert data member private to public\n",
    "class mobileStore:\n",
    "    def __init__(self):\n",
    "        self.mobile=4500\n",
    "        self.__laptop=45000         #data member is private so value will be static\n",
    "        \n",
    "    def display(self):\n",
    "        print(\"mobile=\",self.mobile)\n",
    "        print(\"laptop=\",self.__laptop)      \n",
    "    def changePrice(self,newprice):\n",
    "        self.__laptop=newprice\n",
    "        print(\"-----CHANGEPRICE-----\")\n",
    "\n",
    "obj=mobileStore()\n",
    "obj.display()\n",
    "\n",
    "obj.mobile=1500\n",
    "obj.__laptop=50000          #__laptop is private so value doesn't change\n",
    "obj.display()\n",
    "\n",
    "\n",
    "obj.changePrice(75000)\n",
    "obj.display()"
   ]
  },
  {
   "cell_type": "code",
   "execution_count": 5,
   "id": "248ae506",
   "metadata": {},
   "outputs": [
    {
     "name": "stdout",
     "output_type": "stream",
     "text": [
      "hello parent class method called\n",
      "hello child class method called\n"
     ]
    }
   ],
   "source": [
    "#inheritance\n",
    "#single level\n",
    "class parent:\n",
    "    def display(self):\n",
    "        print(\"hello parent class method called\")\n",
    "\n",
    "class child(parent):\n",
    "    def child_display(self):\n",
    "        print(\"hello child class method called\")\n",
    "\n",
    "obj=child()\n",
    "obj.display()\n",
    "obj.child_display()        "
   ]
  },
  {
   "cell_type": "code",
   "execution_count": 6,
   "id": "13e6b37f",
   "metadata": {},
   "outputs": [
    {
     "name": "stdout",
     "output_type": "stream",
     "text": [
      "A class display\n",
      "B class display\n",
      "C class display\n"
     ]
    }
   ],
   "source": [
    "#multi-level inheritance\n",
    "class A:\n",
    "    def displayA(self):\n",
    "        print(\"A class display\")\n",
    "class B(A):\n",
    "    def displayB(self):\n",
    "        print(\"B class display\")\n",
    "class C(B):\n",
    "    def displayC(self):\n",
    "        print(\"C class display\")\n",
    "\n",
    "obj=C()\n",
    "obj.displayA()\n",
    "obj.displayB()\n",
    "obj.displayC()"
   ]
  },
  {
   "cell_type": "code",
   "execution_count": 9,
   "id": "3f98aa9d",
   "metadata": {},
   "outputs": [
    {
     "name": "stdout",
     "output_type": "stream",
     "text": [
      "A class display\n",
      "B class display\n",
      "C class display\n"
     ]
    }
   ],
   "source": [
    "#multiple inheritance\n",
    "class A:\n",
    "    def displayA(self):\n",
    "        print(\"A class display\")\n",
    "class B(A):\n",
    "    def displayB(self):\n",
    "        print(\"B class display\")\n",
    "class C(A):\n",
    "    def displayC(self):\n",
    "        print(\"C class display\")\n",
    "\n",
    "obj=B()\n",
    "obj.displayA()\n",
    "obj.displayB()\n",
    "obj=C()\n",
    "obj.displayC()\n"
   ]
  },
  {
   "cell_type": "code",
   "execution_count": null,
   "id": "00b6afbe",
   "metadata": {},
   "outputs": [],
   "source": []
  }
 ],
 "metadata": {
  "kernelspec": {
   "display_name": "Python 3.10.5 64-bit",
   "language": "python",
   "name": "python3"
  },
  "language_info": {
   "codemirror_mode": {
    "name": "ipython",
    "version": 3
   },
   "file_extension": ".py",
   "mimetype": "text/x-python",
   "name": "python",
   "nbconvert_exporter": "python",
   "pygments_lexer": "ipython3",
   "version": "3.10.5"
  },
  "vscode": {
   "interpreter": {
    "hash": "369f2c481f4da34e4445cda3fffd2e751bd1c4d706f27375911949ba6bb62e1c"
   }
  }
 },
 "nbformat": 4,
 "nbformat_minor": 5
}
