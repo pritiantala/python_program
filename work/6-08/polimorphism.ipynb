{
 "cells": [
  {
   "cell_type": "code",
   "execution_count": 2,
   "metadata": {},
   "outputs": [
    {
     "name": "stdout",
     "output_type": "stream",
     "text": [
      "speed of vehicle\n",
      "180\n",
      "speed of vehicle\n",
      "60\n"
     ]
    }
   ],
   "source": [
    "#polimorphism\n",
    "\n",
    "class Vehicleclass:\n",
    "    def speed(self):\n",
    "        print(\"speed of vehicle\")\n",
    "\n",
    "class Car(Vehicleclass):\n",
    "    def speed(self):\n",
    "        Vehicleclass.speed(self)\n",
    "        print(\"180\")\n",
    "\n",
    "class Bike(Vehicleclass):\n",
    "    def speed(self):\n",
    "        Vehicleclass.speed(self)\n",
    "        print(\"60\")\n",
    "\n",
    "car=Car()\n",
    "car.speed()\n",
    "\n",
    "bike=Bike()\n",
    "bike.speed()"
   ]
  },
  {
   "cell_type": "code",
   "execution_count": null,
   "metadata": {},
   "outputs": [],
   "source": []
  }
 ],
 "metadata": {
  "kernelspec": {
   "display_name": "Python 3.10.5 64-bit",
   "language": "python",
   "name": "python3"
  },
  "language_info": {
   "codemirror_mode": {
    "name": "ipython",
    "version": 3
   },
   "file_extension": ".py",
   "mimetype": "text/x-python",
   "name": "python",
   "nbconvert_exporter": "python",
   "pygments_lexer": "ipython3",
   "version": "3.10.5"
  },
  "orig_nbformat": 4,
  "vscode": {
   "interpreter": {
    "hash": "369f2c481f4da34e4445cda3fffd2e751bd1c4d706f27375911949ba6bb62e1c"
   }
  }
 },
 "nbformat": 4,
 "nbformat_minor": 2
}
