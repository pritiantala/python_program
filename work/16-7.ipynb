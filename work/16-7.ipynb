{
 "cells": [
  {
   "cell_type": "code",
   "execution_count": 3,
   "metadata": {},
   "outputs": [
    {
     "name": "stdout",
     "output_type": "stream",
     "text": [
      "76\n",
      "java\n",
      "['c', 'php', 'java', 'c++']\n"
     ]
    }
   ],
   "source": [
    "#modules 1st way to import\n",
    "import random\n",
    "\n",
    "#it will generate random number between 1-100\n",
    "num=random.randint(1,100)\n",
    "print(num)\n",
    "\n",
    "#random chice of subject from list\n",
    "subject_list=[\"c++\",\"c\",\"php\",\"java\"]\n",
    "print(random.choice(subject_list))\n",
    "\n",
    "#for shuffle the list\n",
    "list=[\"c++\",\"c\",\"php\",\"java\"]\n",
    "random.shuffle(list)\n",
    "print(list)"
   ]
  },
  {
   "cell_type": "code",
   "execution_count": 5,
   "metadata": {},
   "outputs": [
    {
     "name": "stdout",
     "output_type": "stream",
     "text": [
      "152\n"
     ]
    }
   ],
   "source": [
    "#2nd way to import\n",
    "from random import choice\n",
    "#from random import *---> import all function from module\n",
    "\n",
    "l=[5,45,8,65,1255,77,152]\n",
    "print(choice(l))"
   ]
  },
  {
   "cell_type": "code",
   "execution_count": 6,
   "metadata": {},
   "outputs": [
    {
     "name": "stdout",
     "output_type": "stream",
     "text": [
      "3.141592653589793\n",
      "5\n",
      "4\n",
      "120\n",
      "64.0\n",
      "-0.8715757724135882\n",
      "-0.9748436214041636\n",
      "9.0\n"
     ]
    }
   ],
   "source": [
    "#math module\n",
    "import math\n",
    "print(math.pi)\n",
    "print(math.ceil(4.52))\n",
    "print(math.floor(4.69))\n",
    "print(math.factorial(5))\n",
    "print(math.pow(2,6))\n",
    "print(math.sin(4.2))\n",
    "print(math.cos(9.2))\n",
    "print(math.sqrt(81))"
   ]
  },
  {
   "cell_type": "code",
   "execution_count": 9,
   "metadata": {},
   "outputs": [
    {
     "name": "stdout",
     "output_type": "stream",
     "text": [
      "2022-07-16 10:14:43.516696\n",
      "Saturday\n",
      "Sat\n",
      "July\n",
      "Jul\n",
      "20\n",
      "07/16/22\n",
      "2022\n"
     ]
    }
   ],
   "source": [
    "#dateime module\n",
    "import datetime\n",
    "\n",
    "d=datetime.datetime.now()\n",
    "\n",
    "print(d)\n",
    "print(d.strftime(\"%A\"))\n",
    "print(d.strftime(\"%a\"))\n",
    "print(d.strftime(\"%B\"))\n",
    "print(d.strftime(\"%b\"))\n",
    "print(d.strftime(\"%C\"))\n",
    "print(d.strftime(\"%D\"))\n",
    "print(d.strftime(\"%G\"))"
   ]
  },
  {
   "cell_type": "code",
   "execution_count": 13,
   "metadata": {},
   "outputs": [
    {
     "name": "stdout",
     "output_type": "stream",
     "text": [
      "Stored ID 3252020498 for profile priti_antala.\n",
      "priti_antala\\2022-04-30_17-02-02_UTC_profile_pic.jpg \n"
     ]
    }
   ],
   "source": [
    "import instaloader\n",
    "\n",
    "data=instaloader.Instaloader()\n",
    "username=input(\"enter profile name:\")\n",
    "data.download_profile(username,profile_pic_only=True)\n"
   ]
  },
  {
   "cell_type": "code",
   "execution_count": null,
   "metadata": {},
   "outputs": [],
   "source": [
    "import platform\n",
    "\n",
    "print(platform.system())\n",
    "print(platform.version())\n",
    "print(platform.processor())"
   ]
  }
 ],
 "metadata": {
  "kernelspec": {
   "display_name": "Python 3.10.5 64-bit",
   "language": "python",
   "name": "python3"
  },
  "language_info": {
   "codemirror_mode": {
    "name": "ipython",
    "version": 3
   },
   "file_extension": ".py",
   "mimetype": "text/x-python",
   "name": "python",
   "nbconvert_exporter": "python",
   "pygments_lexer": "ipython3",
   "version": "3.10.5"
  },
  "orig_nbformat": 4,
  "vscode": {
   "interpreter": {
    "hash": "369f2c481f4da34e4445cda3fffd2e751bd1c4d706f27375911949ba6bb62e1c"
   }
  }
 },
 "nbformat": 4,
 "nbformat_minor": 2
}
