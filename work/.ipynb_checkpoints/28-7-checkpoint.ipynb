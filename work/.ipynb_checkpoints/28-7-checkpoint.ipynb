{
 "cells": [
  {
   "cell_type": "code",
   "execution_count": null,
   "id": "34f281ba",
   "metadata": {},
   "outputs": [],
   "source": [
    "__init__.py: which is contain in any blank folder\n",
    "    if any blank folder contain this blank __init__.py file it consider as a package\n",
    "    \n",
    "__init__(): constructor\n",
    "    which call automatically when object of class create"
   ]
  },
  {
   "cell_type": "code",
   "execution_count": 1,
   "id": "b762c280",
   "metadata": {},
   "outputs": [
    {
     "name": "stdout",
     "output_type": "stream",
     "text": [
      "hello welcome to electostore\n"
     ]
    }
   ],
   "source": [
    "class electoStore:\n",
    "    def __init__(self):      #here __init__()is use as a constructor \n",
    "        print(\"hello welcome to electostore\")\n",
    "        \n",
    "obj = electoStore()"
   ]
  },
  {
   "cell_type": "code",
   "execution_count": null,
   "id": "d3e37c89",
   "metadata": {},
   "outputs": [],
   "source": [
    "accessbility = access specifiers =  modifiers\n",
    "\n",
    "by default all class data member and member function are public if we want to make data member private we need denoted\n",
    "with __ or _ in prefix.\n"
   ]
  },
  {
   "cell_type": "code",
   "execution_count": 4,
   "id": "469f2e28",
   "metadata": {},
   "outputs": [
    {
     "name": "stdout",
     "output_type": "stream",
     "text": [
      "mobile= 4500\n",
      "laptop= 45000\n",
      "mobile= 1500\n",
      "laptop= 45000\n"
     ]
    }
   ],
   "source": [
    "class mobileStore:\n",
    "    def __init__(self):\n",
    "        self.mobile=4500\n",
    "        self.__laptop=45000\n",
    "        \n",
    "    def display(self):\n",
    "        print(\"mobile=\",self.mobile)\n",
    "        print(\"laptop=\",self.__laptop)\n",
    "        \n",
    "obj=mobileStore()\n",
    "obj.display()\n",
    "\n",
    "obj.mobile=1500\n",
    "obj.__laptop=50000    #__laptop is private so vaule doesn't change \n",
    "\n",
    "obj.display()"
   ]
  },
  {
   "cell_type": "code",
   "execution_count": null,
   "id": "6e064514",
   "metadata": {},
   "outputs": [],
   "source": []
  }
 ],
 "metadata": {
  "kernelspec": {
   "display_name": "Python 3 (ipykernel)",
   "language": "python",
   "name": "python3"
  },
  "language_info": {
   "codemirror_mode": {
    "name": "ipython",
    "version": 3
   },
   "file_extension": ".py",
   "mimetype": "text/x-python",
   "name": "python",
   "nbconvert_exporter": "python",
   "pygments_lexer": "ipython3",
   "version": "3.10.5"
  }
 },
 "nbformat": 4,
 "nbformat_minor": 5
}
