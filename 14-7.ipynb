{
 "cells": [
  {
   "cell_type": "code",
   "execution_count": 2,
   "metadata": {},
   "outputs": [
    {
     "name": "stdout",
     "output_type": "stream",
     "text": [
      "5\n",
      "6\n",
      "11\n"
     ]
    }
   ],
   "source": [
    "\n",
    "#function with parameter and without return type\n",
    "\n",
    "def sum(num1,num2):\n",
    "    print(num1)\n",
    "    print(num2)\n",
    "\n",
    "    ans = num1+num2\n",
    "    print(ans)\n",
    "\n",
    "num1=int(input(\"enter number 1:\"))\n",
    "num2=int(input(\"enter number 2:\"))\n",
    "\n",
    "sum(num1,num2)\n"
   ]
  },
  {
   "cell_type": "code",
   "execution_count": 3,
   "metadata": {},
   "outputs": [
    {
     "name": "stdout",
     "output_type": "stream",
     "text": [
      "8\n",
      "6\n",
      "14\n"
     ]
    }
   ],
   "source": [
    "#function without parameter and with return type\n",
    "def sum():\n",
    "    num1=int(input(\"enter num1:\"))\n",
    "    num2=int(input(\"enter num2:\"))\n",
    "    print(num1)\n",
    "    print(num2)\n",
    "\n",
    "    ans=num1+num2\n",
    "\n",
    "    return ans\n",
    "\n",
    "result=sum()\n",
    "print(result)"
   ]
  },
  {
   "cell_type": "code",
   "execution_count": 6,
   "metadata": {},
   "outputs": [],
   "source": [
    "#function with parameter and with return type\n",
    "def menu():\n",
    "    data=\"\"\"\n",
    "                        MENU\n",
    "                press 1 for addition\n",
    "                press 2 for multiplication\n",
    "\n",
    "\"\"\"\n",
    "    print(data)\n",
    "    choice=int(input(\"enter your choice:\"))\n",
    "    num1=int(input(\"enter num1:\"))\n",
    "    num2=int(input(\"enter num2:\"))\n",
    "\n",
    "    if choice==1:\n",
    "        print(add(num1,num2))\n",
    "    elif choice==2:\n",
    "        print(mul(num1,num2))\n",
    "    else:\n",
    "        print(\"invalid input\")\n",
    "\n",
    "def add(n1,n2):\n",
    "    ans=n1+n2\n",
    "    return ans\n",
    "\n",
    "def mul(n1,n2):\n",
    "    ans=n1*n2\n",
    "    return ans\n",
    "menu()\n",
    "\n"
   ]
  },
  {
   "cell_type": "code",
   "execution_count": 8,
   "metadata": {},
   "outputs": [
    {
     "name": "stdout",
     "output_type": "stream",
     "text": [
      "\n",
      "                MENU\n",
      "        press 1 for increment\n",
      "        press 2 for decrement\n",
      "    \n",
      "score: 50\n",
      "\n",
      "                MENU\n",
      "        press 1 for increment\n",
      "        press 2 for decrement\n",
      "    \n",
      "score: 100\n",
      "\n",
      "                MENU\n",
      "        press 1 for increment\n",
      "        press 2 for decrement\n",
      "    \n",
      "score: 150\n",
      "\n",
      "                MENU\n",
      "        press 1 for increment\n",
      "        press 2 for decrement\n",
      "    \n",
      "score: 100\n"
     ]
    }
   ],
   "source": [
    "#global variable\n",
    "score=0\n",
    "\n",
    "def increment():\n",
    "    global score    #define global variable\n",
    "    score +=50\n",
    "\n",
    "def dectement():\n",
    "    global score\n",
    "    score-=50\n",
    "\n",
    "def menu():\n",
    "    data=\"\"\"\n",
    "                MENU\n",
    "        press 1 for increment\n",
    "        press 2 for decrement\n",
    "    \"\"\"\n",
    "    print(data)\n",
    "    choice=int(input(\"enter your choice:\"))\n",
    "    if choice==1:\n",
    "        increment()\n",
    "    elif choice==2:\n",
    "        dectement()\n",
    "\n",
    "    print(\"score:\",score)\n",
    "\n",
    "status=True\n",
    "while status:\n",
    "    menu()\n",
    "    choice=input(\"do you want to continue press y for yes and n for no:\")\n",
    "    if choice=='n':\n",
    "        status=False"
   ]
  },
  {
   "cell_type": "code",
   "execution_count": 9,
   "metadata": {},
   "outputs": [
    {
     "name": "stdout",
     "output_type": "stream",
     "text": [
      "fname: priti\n",
      "lname: antala\n",
      "subject: php\n",
      "fname: priti\n",
      "lname: antala\n",
      "subject: python\n"
     ]
    }
   ],
   "source": [
    "#function with default parameter\n",
    "def registration(fname,lname,subject=\"python\"):\n",
    "    print(\"fname:\",fname)\n",
    "    print(\"lname:\",lname)\n",
    "    print(\"subject:\",subject)\n",
    "\n",
    "registration(\"priti\",\"antala\",\"php\")\n",
    "registration(\"priti\",\"antala\")  #if you not define any subject then it takes default parameter from the function"
   ]
  },
  {
   "cell_type": "markdown",
   "metadata": {},
   "source": [
    "in default parameter u cann't give default value to middle parameter it is always start from last parameter"
   ]
  },
  {
   "cell_type": "code",
   "execution_count": 10,
   "metadata": {},
   "outputs": [
    {
     "name": "stdout",
     "output_type": "stream",
     "text": [
      "242\n"
     ]
    }
   ],
   "source": [
    "#*args : tuple parameter\n",
    "def myfun(*args):\n",
    "    sum=0\n",
    "    for i in args:\n",
    "        sum+=i\n",
    "    print(sum)\n",
    "\n",
    "myfun(6,59,74,25,1,6,45,22,4)"
   ]
  },
  {
   "cell_type": "code",
   "execution_count": 12,
   "metadata": {},
   "outputs": [
    {
     "name": "stdout",
     "output_type": "stream",
     "text": [
      "name=aaa\n",
      "subject=python\n"
     ]
    }
   ],
   "source": [
    "# **kwargs :dictonary parameter\n",
    "def student(**kwargs):\n",
    "    for k,v in kwargs.items():\n",
    "        print(f\"{k}={v}\")\n",
    "student(name=\"aaa\",subject=\"python\")"
   ]
  },
  {
   "cell_type": "code",
   "execution_count": null,
   "metadata": {},
   "outputs": [],
   "source": []
  }
 ],
 "metadata": {
  "kernelspec": {
   "display_name": "Python 3.10.5 64-bit",
   "language": "python",
   "name": "python3"
  },
  "language_info": {
   "codemirror_mode": {
    "name": "ipython",
    "version": 3
   },
   "file_extension": ".py",
   "mimetype": "text/x-python",
   "name": "python",
   "nbconvert_exporter": "python",
   "pygments_lexer": "ipython3",
   "version": "3.10.5"
  },
  "orig_nbformat": 4,
  "vscode": {
   "interpreter": {
    "hash": "369f2c481f4da34e4445cda3fffd2e751bd1c4d706f27375911949ba6bb62e1c"
   }
  }
 },
 "nbformat": 4,
 "nbformat_minor": 2
}
