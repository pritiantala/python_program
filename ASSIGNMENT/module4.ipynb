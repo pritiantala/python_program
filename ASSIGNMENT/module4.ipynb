{
 "cells": [
  {
   "cell_type": "code",
   "execution_count": 8,
   "metadata": {},
   "outputs": [],
   "source": [
    "#What is File function in python? What is keywords to create and write file.\n",
    "f= open(r\"C:\\Users\\PRITI\\Documents\\GitHub\\python_program\\ASSIGNMENT\\example.txt\",\"w+\")\n",
    "\n",
    "f.write(\"This is line %d\\r\\n\" % (10))\n",
    "f.close()\n"
   ]
  },
  {
   "cell_type": "code",
   "execution_count": 8,
   "metadata": {},
   "outputs": [
    {
     "name": "stdout",
     "output_type": "stream",
     "text": [
      "This is li\n"
     ]
    }
   ],
   "source": [
    "# Write a Python program to read an entire text file.\n",
    "f = open(r\"C:\\Users\\PRITI\\Documents\\GitHub\\python_program\\ASSIGNMENT\\example.txt\",\"r\")\n",
    "\n",
    "#print(f.read())        #hole file read\n",
    "print(f.read(10)) #only 10 letters print\n"
   ]
  },
  {
   "cell_type": "code",
   "execution_count": 9,
   "metadata": {},
   "outputs": [
    {
     "name": "stdout",
     "output_type": "stream",
     "text": [
      "This is line 10\n",
      "This is line 1\n",
      "This is line 20\n",
      "Now the file has more content!\n"
     ]
    }
   ],
   "source": [
    "#Write a Python program to append text to a file and display the text.\n",
    "f = open(r\"C:\\Users\\PRITI\\Documents\\GitHub\\python_program\\ASSIGNMENT\\example.txt\",\"a\")\n",
    "f.write(\"Now the file has more content!\")\n",
    "f.close()\n",
    "\n",
    "#open and read the file after the appending:\n",
    "f = open(r\"C:\\Users\\PRITI\\Documents\\GitHub\\python_program\\ASSIGNMENT\\example.txt\",\"r\")\n",
    "print(f.read())"
   ]
  },
  {
   "cell_type": "code",
   "execution_count": 21,
   "metadata": {},
   "outputs": [
    {
     "name": "stdout",
     "output_type": "stream",
     "text": [
      "This is line 10\n",
      "\n",
      "This is line 1\n",
      "\n",
      "This is line 20\n",
      "\n"
     ]
    }
   ],
   "source": [
    "#Write a Python program to read first n lines of a file.\n",
    "f = open(r\"C:\\Users\\PRITI\\Documents\\GitHub\\python_program\\ASSIGNMENT\\example.txt\",\"r\")\n",
    "\n",
    "print(f.readline())\n",
    "print(f.readline())\n",
    "print(f.readline())\n"
   ]
  },
  {
   "cell_type": "code",
   "execution_count": 18,
   "metadata": {},
   "outputs": [
    {
     "name": "stdout",
     "output_type": "stream",
     "text": [
      "Now the file has more content!\n"
     ]
    }
   ],
   "source": [
    "# Write a Python program to read last n lines of a file.\n",
    "f = open(r\"C:\\Users\\PRITI\\Documents\\GitHub\\python_program\\ASSIGNMENT\\example.txt\",\"r\")\n",
    "\n",
    "print(f.readlines()[-1])\n",
    "\n"
   ]
  },
  {
   "cell_type": "code",
   "execution_count": 22,
   "metadata": {},
   "outputs": [
    {
     "name": "stdout",
     "output_type": "stream",
     "text": [
      "['This is line 10\\n', 'This is line 1\\n', 'This is line 20\\n', 'Now the file has more content!']\n"
     ]
    }
   ],
   "source": [
    "# Write a Python program to read a file line by line and store it into a list.\n",
    "f = open(r\"C:\\Users\\PRITI\\Documents\\GitHub\\python_program\\ASSIGNMENT\\example.txt\",\"r\")\n",
    "\n",
    "print(f.readlines())"
   ]
  },
  {
   "cell_type": "code",
   "execution_count": 23,
   "metadata": {},
   "outputs": [
    {
     "name": "stdout",
     "output_type": "stream",
     "text": [
      "['This is line 10\\n', 'This is line 1\\n', 'This is line 20\\n', 'Now the file has more content!']\n"
     ]
    }
   ],
   "source": [
    "#Write a Python program to read a file line by line store it into a variable.\n",
    "f = open(r\"C:\\Users\\PRITI\\Documents\\GitHub\\python_program\\ASSIGNMENT\\example.txt\",\"r\")\n",
    "\n",
    "print(f.readlines())"
   ]
  },
  {
   "cell_type": "code",
   "execution_count": 25,
   "metadata": {},
   "outputs": [
    {
     "name": "stdout",
     "output_type": "stream",
     "text": [
      "['abcdefghijklmnopqrstuvwxyz']\n"
     ]
    }
   ],
   "source": [
    "#Write a python program to find the longest words.\n",
    "def longest_word(filename):\n",
    "    with open(filename, 'r') as infile:\n",
    "              words = infile.read().split()\n",
    "    max_len = len(max(words, key=len))\n",
    "    return [word for word in words if len(word) == max_len]\n",
    "\n",
    "print(longest_word(r\"C:\\Users\\PRITI\\Documents\\GitHub\\python_program\\ASSIGNMENT\\example.txt\"))\n"
   ]
  },
  {
   "cell_type": "code",
   "execution_count": 1,
   "metadata": {},
   "outputs": [
    {
     "name": "stdout",
     "output_type": "stream",
     "text": [
      "6\n"
     ]
    }
   ],
   "source": [
    "#Write a Python program to count the number of lines in a text file.\n",
    "f = open(r\"C:\\Users\\PRITI\\Documents\\GitHub\\python_program\\ASSIGNMENT\\example.txt\",\"r\")\n",
    "\n",
    "print(len(f.readlines()))"
   ]
  },
  {
   "cell_type": "code",
   "execution_count": 2,
   "metadata": {},
   "outputs": [
    {
     "name": "stdout",
     "output_type": "stream",
     "text": [
      "Counter({'This': 3, 'is': 3, 'line': 3, '10': 1, '1': 1, '20': 1, 'Now': 1, 'the': 1, 'file': 1, 'has': 1, 'more': 1, 'content!': 1, 'abcdefghijklmnopq': 1, 'rstuvwxyz': 1})\n"
     ]
    }
   ],
   "source": [
    "#Write a Python program to count the frequency of words in a file.\n",
    "from collections import Counter\n",
    "\n",
    "f = open(r\"C:\\Users\\PRITI\\Documents\\GitHub\\python_program\\ASSIGNMENT\\example.txt\",\"r\")\n",
    "print(Counter(f.read().split()))\n"
   ]
  },
  {
   "cell_type": "code",
   "execution_count": 4,
   "metadata": {},
   "outputs": [
    {
     "name": "stdout",
     "output_type": "stream",
     "text": [
      "Done\n"
     ]
    }
   ],
   "source": [
    "#Write a Python program to write a list to a file.\n",
    "# list of names\n",
    "names = ['Jessa', 'Eric', 'Bob',1253,'asas',45,78,'qe','qweq']\n",
    "\n",
    "# open file in write mode\n",
    "with open(r\"C:\\Users\\PRITI\\Documents\\GitHub\\python_program\\ASSIGNMENT\\example.txt\", 'w') as fp:\n",
    "    for item in names:\n",
    "        # write each item on a new line\n",
    "        fp.write(\"%s\\n\" % item)\n",
    "    print('Done')"
   ]
  },
  {
   "cell_type": "code",
   "execution_count": 13,
   "metadata": {},
   "outputs": [],
   "source": [
    "#Write a Python program to copy the contents of a file to another file.\n",
    "f1 = open(r\"C:\\Users\\PRITI\\Documents\\GitHub\\python_program\\ASSIGNMENT\\example.txt\",\"a\")\n",
    "f2= open(r\"C:\\Users\\PRITI\\Documents\\GitHub\\python_program\\ASSIGNMENT\\test.txt\",\"r\")\n",
    "\n",
    "for i in f2:\n",
    "\n",
    "    f1.write(i)\n"
   ]
  },
  {
   "cell_type": "code",
   "execution_count": 14,
   "metadata": {},
   "outputs": [
    {
     "name": "stdout",
     "output_type": "stream",
     "text": [
      "Written content in the file successfully\n"
     ]
    }
   ],
   "source": [
    "#Explain Exception handling? What is an Error in Python?\n",
    "\"\"\"An exception is an event, which occurs during the execution of a program that disrupts the normal flow of the program's instructions.\n",
    " In general, when a Python script encounters a situation that it cannot cope with, it raises an exception.\n",
    "  An exception is a Python object that represents an error.\"\"\"\n",
    "try:\n",
    "   fh = open(\"testfile\", \"w\")\n",
    "   fh.write(\"This is my test file for exception handling!!\")\n",
    "except IOError:\n",
    "   print (\"Error: can\\'t find file or read data\")\n",
    "else:\n",
    "   print(\"Written content in the file successfully\")\n",
    "   fh.close()"
   ]
  },
  {
   "cell_type": "markdown",
   "metadata": {},
   "source": [
    "How many except statements can a try-except block have? Name Some built-in exception classes:\n",
    "\n",
    "There has to be at least one except statement.  \n",
    "1- ZeroDivisionError\t: Raised when the second operator in a division is zero  \n",
    "2-ValueError\t: Raised when there is a wrong value in a specified data type\n",
    "3-TypeError\t: Raised when two different types are combined\n",
    "4-NameError\t: Raised when a variable does not exist\n",
    "5-AttributeError:\tRaised when attribute reference or assignment fails "
   ]
  },
  {
   "cell_type": "code",
   "execution_count": 15,
   "metadata": {},
   "outputs": [],
   "source": [
    "#Can one block of except statements handle multiple exception?\n",
    "# A- Each type of exception can be specified directly. There is no need to put it in a list.     \n",
    "       \n",
    "      "
   ]
  },
  {
   "cell_type": "code",
   "execution_count": 16,
   "metadata": {},
   "outputs": [
    {
     "name": "stdout",
     "output_type": "stream",
     "text": [
      "Written content in the file successfully\n"
     ]
    }
   ],
   "source": [
    "#When will the else part of try-except-else be executed?\n",
    "# A- The else part is executed when no exception occurs.\n",
    "try:\n",
    "   fh = open(\"testfile\", \"w\")\n",
    "   fh.write(\"This is my test file for exception handling!!\")\n",
    "except IOError:\n",
    "   print (\"Error: can\\'t find file or read data\")\n",
    "else:\n",
    "   print(\"Written content in the file successfully\")\n",
    "   fh.close()"
   ]
  },
  {
   "cell_type": "code",
   "execution_count": 21,
   "metadata": {},
   "outputs": [
    {
     "name": "stdout",
     "output_type": "stream",
     "text": [
      "Can't divide by zero\n",
      "This is always executed\n"
     ]
    }
   ],
   "source": [
    "#When is the finally block executed?\n",
    "# A- The finally block always executes when the try block exits. This ensures that the finally block is executed even if an unexpected exception occurs.\n",
    "\n",
    "# No exception Exception raised in try block\n",
    "try:\n",
    "\tk = 5//0# raises divide by zero exception.\n",
    "\tprint(k)\n",
    "\n",
    "# handles zerodivision exception\t\n",
    "except ZeroDivisionError:\n",
    "\tprint(\"Can't divide by zero\")\n",
    "\t\n",
    "finally:\n",
    "\t# this block is always executed\n",
    "\t# regardless of exception generation.\n",
    "\tprint('This is always executed')\n"
   ]
  },
  {
   "cell_type": "code",
   "execution_count": 22,
   "metadata": {},
   "outputs": [
    {
     "name": "stdout",
     "output_type": "stream",
     "text": [
      "no error \n"
     ]
    }
   ],
   "source": [
    "#What happens when „1‟== 1 is executed?\n",
    "# A-  it simply evaluates to false and does not raise any exception.\n",
    "try:\n",
    "    if \"1\"==1:\n",
    "        raise SyntaxError\n",
    "    else:\n",
    "        print(\"no error \")\n",
    "except SyntaxError:\n",
    "    print(\"error occurre\")"
   ]
  },
  {
   "cell_type": "code",
   "execution_count": 23,
   "metadata": {},
   "outputs": [
    {
     "name": "stdout",
     "output_type": "stream",
     "text": [
      "Can't divide by zero\n",
      "This is always executed\n"
     ]
    }
   ],
   "source": [
    "#How Do You Handle Exceptions With Try/Except/Finally In Python? Explain with coding snippets.\n",
    "# A- In Python, exceptions can be handled using a try statement. The critical operation which can raise an exception is placed inside the try clause.\n",
    "#  The code that handles the exceptions is written in the except clause. We can thus choose what operations to perform once we have caught the exception.\n",
    "\n",
    "# No exception Exception raised in try block\n",
    "try:\n",
    "\tk = 5//0# raises divide by zero exception.\n",
    "\tprint(k)\n",
    "\n",
    "# handles zerodivision exception\t\n",
    "except ZeroDivisionError:\n",
    "\tprint(\"Can't divide by zero\")\n",
    "\t\n",
    "finally:\n",
    "\t# this block is always executed\n",
    "\t# regardless of exception generation.\n",
    "\tprint('This is always executed')"
   ]
  },
  {
   "cell_type": "code",
   "execution_count": 32,
   "metadata": {},
   "outputs": [
    {
     "name": "stdout",
     "output_type": "stream",
     "text": [
      "ERROR!!! even number\n"
     ]
    }
   ],
   "source": [
    "# Write python program that user to enter only odd numbers, else will raise an exception.\n",
    "num = int(input(\"Enter a number: \"))\n",
    "mod = num % 2\n",
    "try:\n",
    "    if mod > 0:\n",
    "        print(\"This is an odd number.\")\n",
    "    else:\n",
    "        raise ArithmeticError\n",
    "except ArithmeticError:\n",
    "    print(\"ERROR!!! even number\")\n",
    "    "
   ]
  },
  {
   "cell_type": "markdown",
   "metadata": {},
   "source": [
    "What are oops concepts? Is multiple inheritance supported in java\n",
    "# JAVA IS NOT SUPPORTED MULTIPLE INHERITANCE\n",
    "In Python, object-oriented Programming (OOPs) is a programming paradigm that uses objects and classes in programming.\n",
    "It aims to implement real-world entities like inheritance, polymorphisms, encapsulation, etc. in the programming.\n",
    "Class\n",
    "Objects\n",
    "Polymorphism\n",
    "Encapsulation\n",
    "Inheritance\n",
    "Data Abstraction"
   ]
  },
  {
   "cell_type": "code",
   "execution_count": 2,
   "metadata": {},
   "outputs": [
    {
     "name": "stdout",
     "output_type": "stream",
     "text": [
      "name= John\n",
      "age= 36\n"
     ]
    }
   ],
   "source": [
    "#How to Define a Class in Python? What Is Self? Give An Example Of A Python Class\n",
    "# The self parameter is a reference to the current instance of the class, and is used to access variables that belong to the class.\n",
    "\n",
    "class Person:\n",
    "  def __init__(self, name, age):\n",
    "    self.name = name\n",
    "    self.age = age\n",
    "\n",
    "p1 = Person(\"John\", 36)\n",
    "\n",
    "print(\"name=\",p1.name)\n",
    "print(\"age=\",p1.age)"
   ]
  },
  {
   "cell_type": "code",
   "execution_count": 4,
   "metadata": {},
   "outputs": [
    {
     "name": "stdout",
     "output_type": "stream",
     "text": [
      "120\n"
     ]
    }
   ],
   "source": [
    "#Write a Python class named Rectangle constructed by a length and width and a method which will compute the area of a rectangle\n",
    "class Rectangle():\n",
    "    def __init__(self, l, w):\n",
    "        self.length = l\n",
    "        self.width  = w\n",
    "\n",
    "    def rectangle_area(self):\n",
    "        print(self.length*self.width)\n",
    "\n",
    "newRectangle = Rectangle(12, 10)\n",
    "newRectangle.rectangle_area()\n"
   ]
  },
  {
   "cell_type": "code",
   "execution_count": 10,
   "metadata": {},
   "outputs": [
    {
     "name": "stdout",
     "output_type": "stream",
     "text": [
      "50.24\n",
      "25.12\n"
     ]
    }
   ],
   "source": [
    "#Write a Python class named Circle constructed by a radius and two methods which will compute the area and the perimeter of a circle.\n",
    "class Circle():\n",
    "    def __init__(self, r):\n",
    "        self.radius = r\n",
    "\n",
    "    def area(self):\n",
    "        print( self.radius**2*3.14)\n",
    "    \n",
    "    def perimeter(self):\n",
    "         print(2*self.radius*3.14)\n",
    "\n",
    "NewCircle = Circle(4)\n",
    "NewCircle.area()\n",
    "NewCircle.perimeter()\n"
   ]
  },
  {
   "cell_type": "code",
   "execution_count": 11,
   "metadata": {},
   "outputs": [
    {
     "name": "stdout",
     "output_type": "stream",
     "text": [
      "user class\n",
      "doctor email= jgf\n",
      "doctor password= 566\n",
      "doctor specification= gcgfg\n"
     ]
    }
   ],
   "source": [
    "#Explain Inheritance in Python with an example? What is init? Or What Is A Constructor In Python?\n",
    "#The __init__ function is called every time an object is created from a class. \n",
    "# The __init__ method lets the class initialize the object's attributes and serves no other purpose. It is only used within classes.\n",
    "#In Python the __init__() method is called the constructor and is always called when an object is created.\n",
    "class user:\n",
    "    def __init__(self):\n",
    "        print(\"user class\")\n",
    "        \n",
    "    def input(self):\n",
    "        self.email=input(\"enter email:\")\n",
    "        self.password=input(\"enter password:\")\n",
    "\n",
    "class doctor(user):\n",
    "    def doc_input(self):\n",
    "        self.specification=input(\"enter specification:\")\n",
    "\n",
    "    def display(self):\n",
    "        print(\"doctor email=\",self.email)\n",
    "        print(\"doctor password=\",self.password)\n",
    "        print(\"doctor specification=\",self.specification)\n",
    "\n",
    "\n",
    "\n",
    "doctor=doctor()\n",
    "doctor.input()\n",
    "doctor.doc_input()\n",
    "doctor.display()    \n",
    "    "
   ]
  },
  {
   "cell_type": "code",
   "execution_count": null,
   "metadata": {},
   "outputs": [],
   "source": [
    "#What is Instantiation in terms of OOP terminology?\n",
    "# the creation of an object (or an “instance” of a given class) in an object-oriented programming (OOP) language. Referencing a class declaration,\n",
    "#  an instantiated object is named and created, in memory or on disk."
   ]
  },
  {
   "cell_type": "code",
   "execution_count": null,
   "metadata": {},
   "outputs": [],
   "source": [
    "# What is used to check whether an object o is an instance of class A?"
   ]
  }
 ],
 "metadata": {
  "kernelspec": {
   "display_name": "Python 3.10.5 64-bit",
   "language": "python",
   "name": "python3"
  },
  "language_info": {
   "codemirror_mode": {
    "name": "ipython",
    "version": 3
   },
   "file_extension": ".py",
   "mimetype": "text/x-python",
   "name": "python",
   "nbconvert_exporter": "python",
   "pygments_lexer": "ipython3",
   "version": "3.10.5"
  },
  "orig_nbformat": 4,
  "vscode": {
   "interpreter": {
    "hash": "369f2c481f4da34e4445cda3fffd2e751bd1c4d706f27375911949ba6bb62e1c"
   }
  }
 },
 "nbformat": 4,
 "nbformat_minor": 2
}
