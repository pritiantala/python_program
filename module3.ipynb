{
 "cells": [
  {
   "cell_type": "code",
   "execution_count": 2,
   "metadata": {},
   "outputs": [
    {
     "name": "stdout",
     "output_type": "stream",
     "text": [
      "[12, 52, 22]\n",
      "[22, 52, 12]\n"
     ]
    }
   ],
   "source": [
    "#What is List? How will you reverse a list?\n",
    "l1=[12,52,22]\n",
    "print(l1)\n",
    "l1.reverse()\n",
    "print(l1)\n"
   ]
  },
  {
   "cell_type": "code",
   "execution_count": 3,
   "metadata": {},
   "outputs": [
    {
     "name": "stdout",
     "output_type": "stream",
     "text": [
      "[22, 52]\n"
     ]
    }
   ],
   "source": [
    "#How will you remove last object from a list?\n",
    "l1.pop()\n",
    "print(l1)"
   ]
  },
  {
   "cell_type": "code",
   "execution_count": 4,
   "metadata": {},
   "outputs": [
    {
     "name": "stdout",
     "output_type": "stream",
     "text": [
      "25\n"
     ]
    }
   ],
   "source": [
    "#Suppose list1 is [2, 33, 222, 14, and 25], what is list1 [-1]\n",
    "list1=[2, 33, 222, 14,25]\n",
    "print(list1[-1])"
   ]
  },
  {
   "cell_type": "code",
   "execution_count": 5,
   "metadata": {},
   "outputs": [
    {
     "name": "stdout",
     "output_type": "stream",
     "text": [
      "[5]\n",
      "[5, 6, 8]\n"
     ]
    }
   ],
   "source": [
    "# Differentiate between append () and extend () methods?\n",
    "l1=[]\n",
    "l1.append(5)\n",
    "print(l1)\n",
    "l2=[6,8]\n",
    "l1.extend(l2)\n",
    "print(l1)"
   ]
  },
  {
   "cell_type": "code",
   "execution_count": 6,
   "metadata": {},
   "outputs": [
    {
     "name": "stdout",
     "output_type": "stream",
     "text": [
      "[6, 8, 52, 91, 20, 4, 61, 74]\n",
      "max: 91\n",
      "min: 4\n",
      "sum 316\n"
     ]
    }
   ],
   "source": [
    "#Write a Python function to get the largest number, smallest num and sum of all from a list.\n",
    "l1=[6,8,52,91,20,4,61,74]\n",
    "print(l1)\n",
    "print(\"max:\",max(l1))\n",
    "print(\"min:\",min(l1))\n",
    "print(\"sum\",sum(l1))"
   ]
  },
  {
   "cell_type": "code",
   "execution_count": 12,
   "metadata": {},
   "outputs": [
    {
     "name": "stdout",
     "output_type": "stream",
     "text": [
      "list 1 and 2 are equal\n"
     ]
    }
   ],
   "source": [
    "#How will you compare two lists?\n",
    "l1=[1,2,3]\n",
    "l2=[1,3,2]\n",
    "l1.sort()\n",
    "l2.sort()\n",
    "if l1==l2:\n",
    "    print(\"list 1 and 2 are equal\")\n",
    "else:\n",
    "    print(\"not equal\")"
   ]
  },
  {
   "cell_type": "code",
   "execution_count": 20,
   "metadata": {},
   "outputs": [
    {
     "name": "stdout",
     "output_type": "stream",
     "text": [
      "hello,hih,121,555\n",
      "3\n"
     ]
    }
   ],
   "source": [
    "# Write a Python program to count the number of strings where the string length is 2 or more and the first and last character are same from a given list of strings.\n",
    "str=\"hello,hih,121,555\"\n",
    "str.split(\",\")\n",
    "print(str)\n",
    "count=0\n",
    "for i in str.split(\",\"):\n",
    "    if len(i)>=2 and i[0]==i[-1]:\n",
    "        count+=1\n",
    "print(count)\n"
   ]
  },
  {
   "cell_type": "code",
   "execution_count": 22,
   "metadata": {},
   "outputs": [
    {
     "name": "stdout",
     "output_type": "stream",
     "text": [
      "[6, 5, 6, 55, 20, 74, 91, 20, 74]\n",
      "[]\n",
      "[6, 5, 55, 20, 74, 91]\n"
     ]
    }
   ],
   "source": [
    "#Write a Python program to remove duplicates from a list.\n",
    "l1=[6,5,6,55,20,74,91,20,74]\n",
    "l2=[]\n",
    "print(l1)\n",
    "print(l2)\n",
    "for i in l1:\n",
    "    if i not in l2:\n",
    "        l2.append(i)\n",
    "print(l2)"
   ]
  },
  {
   "cell_type": "code",
   "execution_count": 27,
   "metadata": {},
   "outputs": [
    {
     "name": "stdout",
     "output_type": "stream",
     "text": [
      "\n",
      "list is empty\n"
     ]
    }
   ],
   "source": [
    "#Write a Python program to check a list is empty or not.\n",
    "l1=input(\"enter list:\")\n",
    "print(l1)\n",
    "if len(l1)>0:\n",
    "    print(\"list is not empty\")\n",
    "else:\n",
    "    print(\"list is empty\")"
   ]
  },
  {
   "cell_type": "code",
   "execution_count": 65,
   "metadata": {},
   "outputs": [
    {
     "name": "stdout",
     "output_type": "stream",
     "text": [
      "true\n",
      "true\n",
      "none\n"
     ]
    }
   ],
   "source": [
    "#Write a Python function that takes two lists and returns true if they have at least one common member.\n",
    "l1=[5,8,6]\n",
    "l2=[9,10,5,8]\n",
    "for i in l1:\n",
    "    for j in l2:\n",
    "        if i==j:\n",
    "            print(\"true\")\n",
    "else:\n",
    "    print(\"none\")\n"
   ]
  },
  {
   "cell_type": "code",
   "execution_count": 48,
   "metadata": {},
   "outputs": [
    {
     "name": "stdout",
     "output_type": "stream",
     "text": [
      "[]\n",
      "[1, 4, 9, 16, 25]\n",
      "[676, 729, 784, 841, 900]\n"
     ]
    }
   ],
   "source": [
    "#Write a Python program to generate and print a list of first and last 5 elements where the values are square of numbers between 1 and 30.\n",
    "l1=[]\n",
    "print(l1)\n",
    "for i in range(1,31):\n",
    "    sqr=i**2\n",
    "    l1.append(sqr)\n",
    "print(l1[:5])\n",
    "print(l1[-5:])"
   ]
  },
  {
   "cell_type": "code",
   "execution_count": 49,
   "metadata": {},
   "outputs": [
    {
     "name": "stdout",
     "output_type": "stream",
     "text": [
      "[8, 85, 91, 45, 65, 32]\n"
     ]
    }
   ],
   "source": [
    "# Write a Python function that takes a list and returns a new list with unique elements of the first list.\n",
    "l1=[8,85,91,45,65,32,85,32,8]\n",
    "l2=[]\n",
    "for i in l1:\n",
    "    if i not in l2:\n",
    "        l2.append(i)\n",
    "print(l2)"
   ]
  },
  {
   "cell_type": "code",
   "execution_count": 56,
   "metadata": {},
   "outputs": [
    {
     "name": "stdout",
     "output_type": "stream",
     "text": [
      "['hi', 'hello']\n",
      "hihello\n"
     ]
    }
   ],
   "source": [
    "# Write a Python program to convert a list of characters into a string.\n",
    "l1=['hi','hello']\n",
    "print(l1)\n",
    "str=\"\"\n",
    "for i in l1:\n",
    "    str+=i\n",
    "print(str)"
   ]
  },
  {
   "cell_type": "code",
   "execution_count": 60,
   "metadata": {},
   "outputs": [
    {
     "name": "stdout",
     "output_type": "stream",
     "text": [
      "hallo\n"
     ]
    }
   ],
   "source": [
    "#Write a Python program to select an item randomly from a list.\n",
    "import random\n",
    "l1=['hello','hi','hallo']\n",
    "print(random.choice(l1))"
   ]
  },
  {
   "cell_type": "code",
   "execution_count": 61,
   "metadata": {},
   "outputs": [
    {
     "name": "stdout",
     "output_type": "stream",
     "text": [
      "second smallest number from the list is: 8\n"
     ]
    }
   ],
   "source": [
    "# Write a Python program to find the second smallest number in a list.\n",
    "l1=[8,5,9,33,91,74]\n",
    "l1.sort()\n",
    "print(\"second smallest number from the list is:\",l1[1])"
   ]
  },
  {
   "cell_type": "code",
   "execution_count": 62,
   "metadata": {},
   "outputs": [
    {
     "name": "stdout",
     "output_type": "stream",
     "text": [
      "[5, 8, 4, 1, 6]\n"
     ]
    }
   ],
   "source": [
    "#Write a Python program to get unique values from a list.\n",
    "l1=[5,5,8,8,4,1,6,6]\n",
    "l2=[]\n",
    "for i in l1:\n",
    "    if i not in l2:\n",
    "        l2.append(i)\n",
    "print(l2)"
   ]
  },
  {
   "cell_type": "code",
   "execution_count": 69,
   "metadata": {},
   "outputs": [
    {
     "name": "stdout",
     "output_type": "stream",
     "text": [
      "contain sublist\n"
     ]
    }
   ],
   "source": [
    "# Write a Python program to check whether a list contains a sub list.\n",
    "l1=[8,10,6,3,4,7]\n",
    "l2=[10,6,4]\n",
    "if(all(x in l1 for x in l2)):\n",
    "    print(\"contain sublist\")\n",
    "else:\n",
    "    print(\"not contain\")\n"
   ]
  },
  {
   "cell_type": "code",
   "execution_count": 72,
   "metadata": {},
   "outputs": [
    {
     "name": "stdout",
     "output_type": "stream",
     "text": [
      "('Black', '#000000', 'rgb(0, 0, 0)')\n",
      "('Red', '#FF0000', 'rgb(255, 0, 0)')\n",
      "('Yellow', '#FFFF00', 'rgb(255, 255, 0)')\n"
     ]
    }
   ],
   "source": [
    "#Write a Python program to split a list into different variables.\n",
    "color = [(\"Black\", \"#000000\", \"rgb(0, 0, 0)\"), (\"Red\", \"#FF0000\", \"rgb(255, 0, 0)\"),\n",
    "         (\"Yellow\", \"#FFFF00\", \"rgb(255, 255, 0)\")]\n",
    "var1, var2,var3= color\n",
    "print(var1)\n",
    "print(var2)\n",
    "print(var3)\n"
   ]
  },
  {
   "cell_type": "code",
   "execution_count": null,
   "metadata": {},
   "outputs": [],
   "source": []
  }
 ],
 "metadata": {
  "kernelspec": {
   "display_name": "Python 3.10.5 64-bit",
   "language": "python",
   "name": "python3"
  },
  "language_info": {
   "codemirror_mode": {
    "name": "ipython",
    "version": 3
   },
   "file_extension": ".py",
   "mimetype": "text/x-python",
   "name": "python",
   "nbconvert_exporter": "python",
   "pygments_lexer": "ipython3",
   "version": "3.10.5"
  },
  "orig_nbformat": 4,
  "vscode": {
   "interpreter": {
    "hash": "369f2c481f4da34e4445cda3fffd2e751bd1c4d706f27375911949ba6bb62e1c"
   }
  }
 },
 "nbformat": 4,
 "nbformat_minor": 2
}
